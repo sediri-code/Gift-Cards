{
  "nbformat": 4,
  "nbformat_minor": 0,
  "metadata": {
    "colab": {
      "provenance": [],
      "authorship_tag": "ABX9TyOLYrxPid8dCwIkrDlNjR6t",
      "include_colab_link": true
    },
    "kernelspec": {
      "name": "python3",
      "display_name": "Python 3"
    },
    "language_info": {
      "name": "python"
    }
  },
  "cells": [
    {
      "cell_type": "markdown",
      "metadata": {
        "id": "view-in-github",
        "colab_type": "text"
      },
      "source": [
        "<a href=\"https://colab.research.google.com/github/sediri-code/GC_Generator-Apple-/blob/main/Untitled3.ipynb\" target=\"_parent\"><img src=\"https://colab.research.google.com/assets/colab-badge.svg\" alt=\"Open In Colab\"/></a>"
      ]
    },
    {
      "cell_type": "code",
      "execution_count": 2,
      "metadata": {
        "id": "8CMRrb1kX4jX",
        "colab": {
          "base_uri": "https://localhost:8080/"
        },
        "outputId": "ff4e28b5-8a7c-4d3f-c8de-d9a327f96626"
      },
      "outputs": [
        {
          "output_type": "stream",
          "name": "stdout",
          "text": [
            "0.010567637758427728\n"
          ]
        }
      ],
      "source": [
        "import random\n",
        "n = random.random()\n",
        "print(n)"
      ]
    },
    {
      "cell_type": "markdown",
      "source": [
        "this is a test"
      ],
      "metadata": {
        "id": "_lSf8f3-Y3hX"
      }
    }
  ]
}